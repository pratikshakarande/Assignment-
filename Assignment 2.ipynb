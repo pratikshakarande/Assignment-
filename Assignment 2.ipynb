{
 "cells": [
  {
   "cell_type": "code",
   "execution_count": 1,
   "metadata": {},
   "outputs": [
    {
     "name": "stdout",
     "output_type": "stream",
     "text": [
      "Original list:\n",
      "[[], [], [], 'Red', 'Green', [1, 2], 'Blue', [], []]\n",
      "\n",
      "After deleting the empty lists from the said lists of lists\n",
      "['Red', 'Green', [1, 2], 'Blue']\n"
     ]
    }
   ],
   "source": [
    "# Write a Python program to remove empty List from List.\n",
    "\n",
    "list1 = [[], [], [], 'Red', 'Green', [1,2], 'Blue', [], []]\n",
    "print(\"Original list:\")\n",
    "print(list1)\n",
    "print(\"\\nAfter deleting the empty lists from the said lists of lists\")\n",
    "list2 = [x for x in list1 if x]\n",
    "print(list2)"
   ]
  },
  {
   "cell_type": "code",
   "execution_count": 3,
   "metadata": {},
   "outputs": [
    {
     "name": "stdout",
     "output_type": "stream",
     "text": [
      "The original list is : ['gfg, best, gfg', 'I, am, I', 'two, two, three']\n",
      "The list after duplicate words removal is : [{'gfg', 'best'}, {'I', 'am'}, {'two', 'three'}]\n"
     ]
    }
   ],
   "source": [
    "# Write a Python program to remove all duplicates words from a given sentence\n",
    "\n",
    "test_list = ['gfg, best, gfg', 'I, am, I', 'two, two, three' ] \n",
    "  \n",
    "print(\"The original list is : \" + str(test_list)) \n",
    "res = [] \n",
    "for strs in test_list: \n",
    "    res.append(set(strs.split(\", \"))) \n",
    "      \n",
    "print (\"The list after duplicate words removal is : \" + str(res)) "
   ]
  },
  {
   "cell_type": "code",
   "execution_count": 7,
   "metadata": {},
   "outputs": [
    {
     "name": "stdout",
     "output_type": "stream",
     "text": [
      "Count of e in abcdef is : 1\n"
     ]
    }
   ],
   "source": [
    "# Write a Python program to find all occurrences of a character in the given string\n",
    "test_str = \"abcdef\"\n",
    "count = 0\n",
    "  \n",
    "for i in test_str: \n",
    "    if i == 'e': \n",
    "        count = count + 1\n",
    "   \n",
    "print (\"Count of e in abcdef is : \"\n",
    "                            +  str(count))"
   ]
  },
  {
   "cell_type": "code",
   "execution_count": null,
   "metadata": {},
   "outputs": [],
   "source": []
  }
 ],
 "metadata": {
  "kernelspec": {
   "display_name": "Python 3",
   "language": "python",
   "name": "python3"
  },
  "language_info": {
   "codemirror_mode": {
    "name": "ipython",
    "version": 3
   },
   "file_extension": ".py",
   "mimetype": "text/x-python",
   "name": "python",
   "nbconvert_exporter": "python",
   "pygments_lexer": "ipython3",
   "version": "3.8.5"
  }
 },
 "nbformat": 4,
 "nbformat_minor": 4
}
